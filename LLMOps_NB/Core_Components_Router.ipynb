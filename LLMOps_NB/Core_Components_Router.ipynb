{
  "cells": [
    {
      "cell_type": "code",
      "source": [
        "\"\"\"\n",
        "core/router.py - The Dynamic LLM Router.\n",
        "\n",
        "This module implements the `HeuristicRouter` class, which dynamically selects\n",
        "the most appropriate LLM model for a given query based on a simple heuristic\n",
        "and user feedback.\n",
        "\"\"\"\n",
        "\n",
        "class HeuristicRouter:\n",
        "    \"\"\"\n",
        "    Dynamically routes user queries to different LLM models.\n",
        "\n",
        "    The routing decision is based on the length of the query and a feedback-based\n",
        "    bias. This enables a simple form of dynamic adaptation, where the model\n",
        "    can \"learn\" to use a more powerful (and potentially more expensive) model\n",
        "    when it receives negative feedback.\n",
        "    \"\"\"\n",
        "    def __init__(self):\n",
        "        \"\"\"Initializes the router with a default bias.\"\"\"\n",
        "        # This bias increases with negative feedback, pushing the router to\n",
        "        # use the more powerful Claude 3.5 Sonnet model.\n",
        "        self.bias_towards_35 = 0\n",
        "\n",
        "    def select_model(self, query: str) -> str:\n",
        "        \"\"\"\n",
        "        Selects an LLM model based on a heuristic.\n",
        "\n",
        "        Args:\n",
        "            query: The user's question.\n",
        "\n",
        "        Returns:\n",
        "            The name of the selected LLM model.\n",
        "        \"\"\"\n",
        "        # If the query is long (>50 characters) or the bias is high (>2),\n",
        "        # use the more powerful Claude 3.5 Sonnet.\n",
        "        if len(query) > 50 or self.bias_towards_35 > 2:\n",
        "            return \"claude-3-5-sonnet-20240620\"\n",
        "        return \"claude-3-sonnet-20240229\"\n",
        "\n",
        "    def adjust_routing(self, thumbs_up: bool):\n",
        "        \"\"\"\n",
        "        Adjusts the routing bias based on user feedback.\n",
        "\n",
        "        Args:\n",
        "            thumbs_up: A boolean indicating positive (True) or negative (False) feedback.\n",
        "        \"\"\"\n",
        "        if not thumbs_up:\n",
        "            self.bias_towards_35 += 1\n",
        "        else:\n",
        "            # On positive feedback, reduce the bias but never below zero\n",
        "            self.bias_towards_35 = max(0, self.bias_towards_35 - 1)"
      ],
      "outputs": [],
      "execution_count": null,
      "metadata": {
        "id": "_y6MT8mNnbdb"
      }
    }
  ],
  "metadata": {
    "colab": {
      "provenance": []
    },
    "kernelspec": {
      "display_name": "Python 3",
      "name": "python3"
    }
  },
  "nbformat": 4,
  "nbformat_minor": 0
}