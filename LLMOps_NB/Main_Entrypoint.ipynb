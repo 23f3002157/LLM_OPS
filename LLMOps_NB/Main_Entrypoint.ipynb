{
  "cells": [
    {
      "cell_type": "code",
      "source": [
        "\"\"\"\n",
        "main.py - CLI Entrypoint for the LLMOps Chatbot.\n",
        "\n",
        "This script acts as the main dispatcher for the entire application. It uses a\n",
        "command-line interface (CLI) to run various sub-commands for the LLMOps pipeline,\n",
        "such as starting a local chatbot, registering a new model version, promoting a\n",
        "model to production, or serving a FastAPI inference endpoint.\n",
        "\n",
        "To use:\n",
        "- python main.py chat             # Start an interactive chatbot loop\n",
        "- python main.py register --model-name LLMOpsChatbot  # Register a new model version\n",
        "- python main.py promote --model-name LLMOpsChatbot  # Promote latest version to Production\n",
        "- python main.py serve --model-name LLMOpsChatbot  # Serve the production API endpoint\n",
        "- python main.py emit-dockerfile  # Write a Dockerfile\n",
        "- python main.py emit-k8s         # Write a Kubernetes manifest\n",
        "\"\"\"\n",
        "\n",
        "import sys\n",
        "import asyncio\n",
        "import argparse\n",
        "\n",
        "from cli import commands\n",
        "\n",
        "def main():\n",
        "    \"\"\"\n",
        "    Main function to parse CLI arguments and execute the corresponding command.\n",
        "    \"\"\"\n",
        "    parser = argparse.ArgumentParser(\n",
        "        description=\"LLMOps Chatbot CLI\",\n",
        "        usage=\"python main.py <command> [<args>]\"\n",
        "    )\n",
        "    parser.add_argument(\"command\", help=\"Sub-command to run\")\n",
        "\n",
        "    if len(sys.argv) < 2:\n",
        "        parser.print_help()\n",
        "        sys.exit(1)\n",
        "\n",
        "    # Dispatch commands\n",
        "    args = sys.argv[1]\n",
        "    if args == \"chat\":\n",
        "        asyncio.run(commands.cmd_chat())\n",
        "    elif args == \"register\":\n",
        "        commands.cmd_register(sys.argv[2:])\n",
        "    elif args == \"promote\":\n",
        "        commands.cmd_promote(sys.argv[2:])\n",
        "    elif args == \"serve\":\n",
        "        commands.cmd_serve(sys.argv[2:])\n",
        "    elif args == \"emit-dockerfile\":\n",
        "        commands.emit_dockerfile()\n",
        "    elif args == \"emit-k8s\":\n",
        "        commands.emit_k8s()\n",
        "    else:\n",
        "        print(f\"Unknown command: '{args}'\")\n",
        "        parser.print_help()\n",
        "        sys.exit(1)\n",
        "\n",
        "if __name__ == \"__main__\":\n",
        "    main()"
      ],
      "outputs": [],
      "execution_count": null,
      "metadata": {
        "id": "ohj9AVKpm4cN"
      }
    }
  ],
  "metadata": {
    "colab": {
      "provenance": []
    },
    "kernelspec": {
      "display_name": "Python 3",
      "name": "python3"
    }
  },
  "nbformat": 4,
  "nbformat_minor": 0
}