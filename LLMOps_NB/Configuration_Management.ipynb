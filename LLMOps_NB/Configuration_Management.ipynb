{
  "cells": [
    {
      "cell_type": "code",
      "source": [
        "\"\"\"\n",
        "config.py - Application-wide Configuration.\n",
        "\n",
        "This module centralizes all configuration parameters for the application using Pydantic.\n",
        "This approach provides type validation, default values, and a single source of truth,\n",
        "making the application more robust and easier to configure.\n",
        "\"\"\"\n",
        "\n",
        "import os\n",
        "from pydantic import BaseModel, Field\n",
        "from typing import Optional\n",
        "\n",
        "class AppConfig(BaseModel):\n",
        "    \"\"\"\n",
        "    Defines the configuration schema for the LLMOps Chatbot application.\n",
        "    \"\"\"\n",
        "    # Environment variables\n",
        "    anthropic_api_key: Optional[str] = Field(\n",
        "        default_factory=lambda: os.getenv(\"ANTHROPIC_API_KEY\"),\n",
        "        description=\"API key for the Anthropic LLM.\"\n",
        "    )\n",
        "    mlflow_tracking_uri: str = Field(\n",
        "        default=os.getenv(\"MLFLOW_TRACKING_URI\", \"http://localhost:5000\"),\n",
        "        description=\"URI for the MLflow tracking server.\"\n",
        "    )\n",
        "\n",
        "    # General application settings\n",
        "    mlflow_experiment_name: str = Field(\n",
        "        default=\"llmops-chatbot\",\n",
        "        description=\"Name of the MLflow experiment for logging.\"\n",
        "    )\n",
        "    default_model_name: str = Field(\n",
        "        default=\"LLMOpsChatbot\",\n",
        "        description=\"The default MLflow model name.\"\n",
        "    )\n",
        "\n",
        "    # RAG pipeline settings\n",
        "    rag_docs: list[str] = Field(\n",
        "        default=[\n",
        "            \"Python is a high-level programming language used for AI and data science.\",\n",
        "            \"MLflow is a platform for managing machine learning experiments and models.\",\n",
        "            \"FAISS is a library for efficient similarity search and clustering of dense vectors.\",\n",
        "            \"Claude Sonnet is a family of powerful language models built by Anthropic.\"\n",
        "        ],\n",
        "        description=\"Default documents to seed the RAG knowledge base.\"\n",
        "    )\n",
        "    rag_initial_hint: str = Field(\n",
        "        default=\"Answer in a helpful, concise, and knowledge-sharing way.\",\n",
        "        description=\"The initial hint for the ControlHintAdapter.\"\n",
        "    )\n",
        "\n",
        "    # FastAPI server settings\n",
        "    api_host: str = Field(\n",
        "        default=\"0.0.0.0\",\n",
        "        description=\"Host address for the FastAPI server.\"\n",
        "    )\n",
        "    api_port: int = Field(\n",
        "        default=8080,\n",
        "        description=\"Port for the FastAPI server.\"\n",
        "    )\n",
        "\n",
        "# Create a global configuration instance\n",
        "CONFIG = AppConfig()"
      ],
      "outputs": [],
      "execution_count": null,
      "metadata": {
        "id": "z-K6mJvJnDvL"
      }
    }
  ],
  "metadata": {
    "colab": {
      "provenance": []
    },
    "kernelspec": {
      "display_name": "Python 3",
      "name": "python3"
    }
  },
  "nbformat": 4,
  "nbformat_minor": 0
}